{
 "cells": [
  {
   "cell_type": "code",
   "execution_count": null,
   "metadata": {
    "is_executing": true
   },
   "outputs": [],
   "source": [
    "# -*- coding: utf-8 -*-\n",
    "\n",
    "# ***\n",
    "# author:david\n",
    "# data:2018****\n",
    "# util function\n",
    "# ***\n",
    "\n",
    "import os \n",
    "item_info = {}\n",
    "\n",
    "def get_item_info(input_file):\n",
    "#     ***\n",
    "#     get item info:[title,genre]\n",
    "#     Args:\n",
    "#     ***\n",
    "    if not os.path.exists(input_file):\n",
    "        return []\n",
    "    linenum = 0\n",
    "    fp = open(input_file,encoding='ISO-8859-1')\n",
    "    for line in fp:\n",
    "#         if linenum == 0:\n",
    "#             linenum+=1\n",
    "#             continue\n",
    "        item = line.strip().split('::')\n",
    "        if len(item) < 3:\n",
    "#  \n",
    "            continue\n",
    "        elif len(item) == 3:\n",
    "#             print(item[0])\n",
    "            itemid, title, genre = item[0], item[1], item[2]\n",
    "        elif len(item) >3:\n",
    "            itemid = item[0]\n",
    "            genre = item[-1]\n",
    "            title = \",\".join(item[1,-1])\n",
    "    \n",
    "        item_info[itemid] = [title,genre]\n",
    "    fp.close()\n",
    "    return item_info\n",
    "\n",
    "\n",
    "if __name__ == \"__main__\":\n",
    "    item_dict = get_item_info(\"C:/Users/hushe/Desktop/推荐系统/ml-1m/movies.txt\")\n",
    "    print(len(item_dict))\n",
    "    print(item_dict[\"1\"])\n",
    "    print(item_dict[\"11\"])"
   ]
  },
  {
   "cell_type": "code",
   "execution_count": null,
   "metadata": {
    "is_executing": true
   },
   "outputs": [],
   "source": []
  },
  {
   "cell_type": "code",
   "execution_count": null,
   "metadata": {
    "is_executing": true
   },
   "outputs": [],
   "source": []
  }
 ],
 "metadata": {
  "kernelspec": {
   "display_name": "Python 3",
   "language": "python",
   "name": "python3"
  },
  "language_info": {
   "codemirror_mode": {
    "name": "ipython",
    "version": 3
   },
   "file_extension": ".py",
   "mimetype": "text/x-python",
   "name": "python",
   "nbconvert_exporter": "python",
   "pygments_lexer": "ipython3",
   "version": "3.7.4"
  }
 },
 "nbformat": 4,
 "nbformat_minor": 2
}
